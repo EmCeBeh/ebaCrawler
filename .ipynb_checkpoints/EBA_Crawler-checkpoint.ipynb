{
 "cells": [
  {
   "cell_type": "code",
   "execution_count": 5,
   "id": "f31bd1c4-7895-41fd-9740-2dd6ef337773",
   "metadata": {},
   "outputs": [],
   "source": [
    "def get_EBA_order_html_file(userid, pwd, eba_number):\n",
    "    import requests\n",
    "    from requests.packages.urllib3.exceptions import InsecureRequestWarning\n",
    "    requests.packages.urllib3.disable_warnings(InsecureRequestWarning)\n",
    "    payload = {'userid': userid, 'pwd': pwd,'eintragen':'++++login++++'}\n",
    "    with requests.Session() as s:\n",
    "        p = s.post('https://db.mbi-berlin.de/budget/ba_login.php', data=payload, verify=False)\n",
    "        r = s.get('https://db.mbi-berlin.de/budget/ba_show.php?id=%d'%eba_number)\n",
    "        if r.text == p.text:\n",
    "            print('DID NOT WORK!')\n",
    "            return None\n",
    "        else:\n",
    "            return r\n",
    "\n",
    "def get_order_table_from_html(html):\n",
    "    import os\n",
    "    import sys\n",
    "    import pandas as pd\n",
    "    from bs4 import BeautifulSoup as bs\n",
    "\n",
    "    data = []\n",
    "    list_header = []\n",
    "    soup = bs(html._content)\n",
    "    # entries 1-3 are the header. Should make a function to get the header\n",
    "    # entries 5+ are the stuff below the tables\n",
    "    header = soup.find_all(\"table\")[4].find(\"tr\")\n",
    "    \n",
    "    for items in header:\n",
    "        try:\n",
    "            list_header.append(items.get_text())\n",
    "        except:\n",
    "            continue\n",
    "            \n",
    "    html_order_table = soup.find_all(\"table\")[4].find_all(\"tr\")[1:]\n",
    "    \n",
    "    return html_order_table\n",
    "\n",
    "def parse_order_table(table):\n",
    "    keys = [\n",
    "    'Pos.Nr.',\n",
    "    'Menge ME',\n",
    "    'Bezeichnung der Lieferung u.Leistung',\n",
    "    'Preis/ME',\n",
    "    'Rabatt(%)',\n",
    "    'Wert(Netto)',\n",
    "    'Pos.-Typ',\n",
    "    'Materialart/Mat.Nr.',\n",
    "    'Sachkonto',\n",
    "    'Finanzposition',\n",
    "    'Fonds',\n",
    "    'Kont.-Typ',\n",
    "    'Artikel-Nr. des Lieferanten',\n",
    "    'Kst/KTR/Auftrags-Nr.',\n",
    "    'Finanzstelle',\n",
    "    'Anlagen-Nr.'\n",
    "    ]\n",
    "\n",
    "    order = {}\n",
    "    table_rows = table[3:-1]\n",
    "    items_raw = [table_rows[i:i + 3] for i in range(0, len(table_rows), 3)]\n",
    "\n",
    "    for n,item_raw in enumerate(items_raw):\n",
    "        item = {}\n",
    "        i = 0\n",
    "        for item_data in item_raw:\n",
    "            #print(item_data.get_text())\n",
    "            for item_data_row in item_data:\n",
    "                try:\n",
    "                    if item_data_row.get_text() in ['\\xa0','F\\xa0\\xa0']:\n",
    "                        item[keys[i]] = ''\n",
    "                        i += 1\n",
    "                    else:\n",
    "                        item[keys[i]] = item_data_row.get_text()\n",
    "                        i += 1\n",
    "                except:\n",
    "                    continue\n",
    "        order[n] = item\n",
    "    return order"
   ]
  },
  {
   "cell_type": "code",
   "execution_count": 3,
   "id": "e9a9885b-80bc-430a-a2f2-a32d9fe35e5e",
   "metadata": {},
   "outputs": [],
   "source": [
    "name = 'ENTER YOUR LDAP NAME HERE'\n",
    "password = 'initial'\n",
    "eba_id #unique EBA id, consecutive. is not identical to the Bedards Nr\n",
    "#Bedarfs Nr. are always between 50000 and 60000 and then they start over!\n",
    "# As there are a total of 33703 orders, some Bedarfs Nr. are multiple times.\n",
    "response = get_EBA_order_html_file(name,password,eba_id)\n",
    "table = get_order_table_from_html(response)\n",
    "parse_order_table(table)"
   ]
  },
  {
   "cell_type": "markdown",
   "id": "e1c099ff-0b98-4caa-a7da-13f5a4c615c2",
   "metadata": {},
   "source": [
    "# Overview Table"
   ]
  },
  {
   "cell_type": "code",
   "execution_count": 34,
   "id": "900c6908-6580-4092-81b0-769e055c263d",
   "metadata": {},
   "outputs": [],
   "source": [
    "def get_EBA_overview_html_file(userid, pwd, start_nr):\n",
    "    import requests\n",
    "    from requests.packages.urllib3.exceptions import InsecureRequestWarning\n",
    "    requests.packages.urllib3.disable_warnings(InsecureRequestWarning)\n",
    "    payload = {'userid': userid, 'pwd': pwd,'eintragen':'++++login++++'}\n",
    "    with requests.Session() as s:\n",
    "        p = s.post('https://db.mbi-berlin.de/budget/ba_login.php', data=payload, verify=False)\n",
    "        r = s.get('https://db.mbi-berlin.de/budget/ba_select.php?&s=p')\n",
    "        if r.text == p.text:\n",
    "            print('DID NOT WORK!')\n",
    "            return None\n",
    "        else:\n",
    "            return r"
   ]
  },
  {
   "cell_type": "code",
   "execution_count": 35,
   "id": "717eca92-b5bd-4383-ae1b-9a5eb976bf98",
   "metadata": {},
   "outputs": [],
   "source": [
    "name = 'borchert'\n",
    "password = 'initial'\n",
    "start_nr = 200\n",
    "html = get_EBA_overview_html_file(name,password,start_nr)"
   ]
  },
  {
   "cell_type": "code",
   "execution_count": 85,
   "id": "a3667bae-f663-4398-ba56-7b2e50e003c4",
   "metadata": {},
   "outputs": [],
   "source": [
    "from bs4 import BeautifulSoup as bs\n",
    "soup = bs(html._content)\n",
    "# entries 1-3 are the header. Should make a function to get the header\n",
    "# entries 5+ are the stuff below the tables\n",
    "html_table = soup.find_all(\"table\")\n",
    "\n",
    "keys = [\n",
    "'Bedarfs-Nr.',\n",
    "'Lieferant',\n",
    "'Anforderungsdat.',\n",
    "'UserID',\n",
    "'Status',\n",
    "'Nr.',\n",
    "'Art.Nr.',\n",
    "'Bezeichnung',\n",
    "'Fist',\n",
    "'Wert',\n",
    "]"
   ]
  },
  {
   "cell_type": "code",
   "execution_count": 86,
   "id": "7e747f4c-1655-45b3-bf32-979384d3b023",
   "metadata": {},
   "outputs": [],
   "source": [
    "orders = {}\n",
    "for entry in html_table[1].find_all(\"tr\")[3:]:\n",
    "    order = {}        "
   ]
  },
  {
   "cell_type": "code",
   "execution_count": 94,
   "id": "33c29195-af1a-4c84-8b8e-74a96882615a",
   "metadata": {},
   "outputs": [
    {
     "data": {
      "text/plain": [
       "<bound method Tag.select of <tr bgcolor=\"#EEEEEE\"><td>53320</td>\n",
       "<td width=\"\">Reichelt Elektronik GmbH &amp; Co. KG</td>\n",
       "<td width=\"\">06.04.2022 11:09:00</td>\n",
       "<td width=\"\">rohloff</td>\n",
       "<td width=\"\">Freigabe Verwaltung</td>\n",
       "<td width=\"\">12</td>\n",
       "<td width=\"\">WAGO 221-413</td>\n",
       "<td width=\"\">erbindungsklemme, 3-Leiteranschluss</td>\n",
       "<td width=\"\">205343</td>\n",
       "<td width=\"\"><p align=\"right\">4,20</p></td>\n",
       "<td width=\"\"><a href=\"ba_show.php?id=55498&amp;s=p&amp;ref=%2Fbudget%2Fba_select.php%3Fs%3Dp\"><img alt=\"anzeigen\" border=\"0\" height=\"15\" src=\"/budget/icons/ansicht.gif\" title=\"anzeigen\" width=\"24\"/></a></td>\n",
       "</tr>>"
      ]
     },
     "execution_count": 94,
     "metadata": {},
     "output_type": "execute_result"
    }
   ],
   "source": [
    "entry.select"
   ]
  },
  {
   "cell_type": "code",
   "execution_count": null,
   "id": "6d855df2-2528-40bf-a80e-c06bd7430ab5",
   "metadata": {},
   "outputs": [],
   "source": []
  }
 ],
 "metadata": {
  "kernelspec": {
   "display_name": "Python 3",
   "language": "python",
   "name": "python3"
  },
  "language_info": {
   "codemirror_mode": {
    "name": "ipython",
    "version": 3
   },
   "file_extension": ".py",
   "mimetype": "text/x-python",
   "name": "python",
   "nbconvert_exporter": "python",
   "pygments_lexer": "ipython3",
   "version": "3.7.6"
  }
 },
 "nbformat": 4,
 "nbformat_minor": 5
}
